{
 "cells": [
  {
   "cell_type": "markdown",
   "metadata": {},
   "source": [
    "# Stack Data Structure Demo"
   ]
  },
  {
   "cell_type": "code",
   "execution_count": null,
   "metadata": {},
   "outputs": [],
   "source": [
    "import sys\n",
    "sys.path.append('/Users/elhadjimamadou/Desktop/Projects/data_structures')\n",
    "from data_structures.stack import Stack\n",
    "\n",
    "class StackDemo:\n",
    "    def __init__(self):\n",
    "        self.stack = Stack()\n",
    "    \n",
    "    def add_items(self, items):\n",
    "        print(\"Adding items to stack:\")\n",
    "        for item in items:\n",
    "            self.stack.push(item)\n",
    "            print(f\"Pushed: {item}\")\n",
    "    \n",
    "    def remove_top(self):\n",
    "        print(\"\\nRemoving top item:\")\n",
    "        top = self.stack.peek()\n",
    "        self.stack.pop()\n",
    "        print(f\"Removed: {top}\")\n",
    "    \n",
    "    def check_top(self):\n",
    "        print(\"\\nChecking top item:\")\n",
    "        print(f\"Top item: {self.stack.peek()}\")\n",
    "    \n",
    "    def check_empty(self):\n",
    "        print(\"\\nChecking if stack is empty:\")\n",
    "        print(f\"Empty: {self.stack.is_empty()}\")"
   ]
  },
  {
   "cell_type": "code",
   "execution_count": null,
   "metadata": {},
   "outputs": [],
   "source": [
    "# Test all Stack operations\n",
    "demo = StackDemo()\n",
    "\n",
    "# Check if empty initially\n",
    "demo.check_empty()\n",
    "\n",
    "# Add items\n",
    "demo.add_items([1, 2, 3])\n",
    "\n",
    "# Check top item\n",
    "demo.check_top()\n",
    "\n",
    "# Remove item\n",
    "demo.remove_top()\n",
    "\n",
    "# Check if empty after operations\n",
    "demo.check_empty()"
   ]
  }
 ],
 "metadata": {
  "kernelspec": {
   "display_name": "Python 3",
   "language": "python",
   "name": "python3"
  }
 },
 "nbformat": 4,
 "nbformat_minor": 4
}
