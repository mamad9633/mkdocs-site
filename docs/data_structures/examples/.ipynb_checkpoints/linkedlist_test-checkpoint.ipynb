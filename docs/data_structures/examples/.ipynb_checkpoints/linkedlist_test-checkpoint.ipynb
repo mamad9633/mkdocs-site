{
 "cells": [
  {
   "cell_type": "markdown",
   "metadata": {},
   "source": [
    "# LinkedList Demo"
   ]
  },
  {
   "cell_type": "code",
   "execution_count": null,
   "metadata": {},
   "source": [
    "from linkedlist import LinkedList\n",
    "\n",
    "class ListDemo:\n",
    "    def __init__(self):\n",
    "        self.list = LinkedList()\n",
    "    \n",
    "    def add_at_start(self, items):\n",
    "        for item in items:\n",
    "            self.list.insertAtBeginning(item)\n",
    "        self.list.traverse()\n",
    "    \n",
    "    def add_at_end(self, items):\n",
    "        for item in items:\n",
    "            self.list.insertAtEnd(item)\n",
    "        self.list.traverse()\n",
    "    \n",
    "    def add_after_index(self, item, index):\n",
    "        self.list.insertAfter(item, index)\n",
    "        self.list.traverse()\n",
    "    \n",
    "    def remove_element(self, index):\n",
    "        self.list.deleteItem(index)\n",
    "        self.list.traverse()\n",
    "    \n",
    "    def find_element(self, item):\n",
    "        return self.list.search(item)"
   ]
  },
  {
   "cell_type": "code",
   "execution_count": null,
   "metadata": {},
   "source": [
    "# Test all LinkedList operations\n",
    "demo = ListDemo()\n",
    "\n",
    "# Add at beginning\n",
    "demo.add_at_start([1, 2, 3])\n",
    "\n",
    "# Add at end\n",
    "demo.add_at_end([4, 5])\n",
    "\n",
    "# Add after index\n",
    "demo.add_after_index(6, 2)\n",
    "\n",
    "# Remove element\n",
    "demo.remove_element(1)\n",
    "\n",
    "# Search element\n",
    "print(f\"Is 3 in list? {demo.find_element(3)}\")"
   ]
  }
 ],
 "metadata": {
  "kernelspec": {
   "display_name": "Python 3",
   "language": "python",
   "name": "python3"
  }
 },
 "nbformat": 4,
 "nbformat_minor": 4
}