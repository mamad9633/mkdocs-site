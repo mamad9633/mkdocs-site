{
 "cells": [
  {
   "cell_type": "markdown",
   "metadata": {},
   "source": [
    "# Array Visualization Examples\n",
    "\n",
    "This notebook demonstrates the visualization capabilities of our Array implementation."
   ]
  },
  {
   "cell_type": "code",
   "execution_count": null,
   "metadata": {},
   "outputs": [],
   "source": [
    "from data_structures import Array\n",
    "import matplotlib.pyplot as plt"
   ]
  },
  {
   "cell_type": "code",
   "execution_count": null,
   "metadata": {},
   "outputs": [],
   "source": [
    "# Create an empty array\n",
    "arr = Array()\n",
    "\n",
    "# Initial state\n",
    "print(\"Empty array:\")\n",
    "arr.visualize()"
   ]
  },
  {
   "cell_type": "code",
   "execution_count": null,
   "metadata": {},
   "outputs": [],
   "source": [
    "# Add some elements\n",
    "for i in range(5):\n",
    "    arr.insert(i * 2)\n",
    "\n",
    "print(\"Array after insertions:\")\n",
    "arr.visualize()"
   ]
  },
  {
   "cell_type": "code",
   "execution_count": null,
   "metadata": {},
   "outputs": [],
   "source": [
    "# Delete an element\n",
    "arr.delete(2)\n",
    "\n",
    "print(\"Array after deletion:\")\n",
    "arr.visualize()"
   ]
  }
 ],
 "metadata": {
  "kernelspec": {
   "display_name": "Python 3",
   "language": "python",
   "name": "python3"
  }
 },
 "nbformat": 4,
 "nbformat_minor": 4
}