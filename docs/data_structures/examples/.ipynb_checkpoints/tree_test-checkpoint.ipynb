{
 "cells": [
  {
   "cell_type": "markdown",
   "metadata": {},
   "source": [
    "# Binary Search Tree Demo"
   ]
  },
  {
   "cell_type": "code",
   "execution_count": null,
   "metadata": {},
   "outputs": [],
   "source": [
    "import sys\n",
    "sys.path.append('/Users/elhadjimamadou/Desktop/Projects/data_structures')\n",
    "from data_structures.tree import BinarySearchTree\n",
    "\n",
    "class TreeDemo:\n",
    "    def __init__(self):\n",
    "        self.tree = BinarySearchTree()\n",
    "    \n",
    "    def build_tree(self, items):\n",
    "        print(\"Building tree with:\", items)\n",
    "        for item in items:\n",
    "            self.tree.insert(item)\n",
    "        print(\"Tree built. Inorder traversal:\")\n",
    "        self.tree.inorder_traversal()\n",
    "    \n",
    "    def find_value(self, value):\n",
    "        print(f\"\\nSearching for {value}:\")\n",
    "        result = self.tree.search(value)\n",
    "        print(f\"Found: {result.data if result else 'Not found'}\")"
   ]
  },
  {
   "cell_type": "code",
   "execution_count": null,
   "metadata": {},
   "outputs": [],
   "source": [
    "# Test all BST operations\n",
    "demo = TreeDemo()\n",
    "\n",
    "# Insert values and show tree\n",
    "demo.build_tree([5, 3, 7, 1, 9, 4])\n",
    "\n",
    "# Search for values\n",
    "demo.find_value(4)\n",
    "demo.find_value(8)"
   ]
  }
 ],
 "metadata": {
  "kernelspec": {
   "display_name": "Python 3",
   "language": "python",
   "name": "python3"
  }
 },
 "nbformat": 4,
 "nbformat_minor": 4
}
