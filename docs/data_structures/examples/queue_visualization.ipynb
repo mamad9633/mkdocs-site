{
 "cells": [
  {
   "cell_type": "code",
   "execution_count": 6,
   "metadata": {},
   "outputs": [
    {
     "ename": "AttributeError",
     "evalue": "'Queue' object has no attribute 'enqueue'",
     "output_type": "error",
     "traceback": [
      "\u001b[31m---------------------------------------------------------------------------\u001b[39m",
      "\u001b[31mAttributeError\u001b[39m                            Traceback (most recent call last)",
      "\u001b[36mCell\u001b[39m\u001b[36m \u001b[39m\u001b[32mIn[6]\u001b[39m\u001b[32m, line 9\u001b[39m\n\u001b[32m      7\u001b[39m q = Queue()\n\u001b[32m      8\u001b[39m \u001b[38;5;28;01mfor\u001b[39;00m i \u001b[38;5;129;01min\u001b[39;00m \u001b[38;5;28mrange\u001b[39m(\u001b[32m1\u001b[39m, \u001b[32m6\u001b[39m):\n\u001b[32m----> \u001b[39m\u001b[32m9\u001b[39m     \u001b[43mq\u001b[49m\u001b[43m.\u001b[49m\u001b[43menqueue\u001b[49m(i)\n\u001b[32m     11\u001b[39m \u001b[38;5;66;03m# Show initial state\u001b[39;00m\n\u001b[32m     12\u001b[39m \u001b[38;5;28mprint\u001b[39m(\u001b[33m\"\u001b[39m\u001b[33mInitial queue:\u001b[39m\u001b[33m\"\u001b[39m)\n",
      "\u001b[31mAttributeError\u001b[39m: 'Queue' object has no attribute 'enqueue'"
     ]
    }
   ],
   "source": [
    "import sys\n",
    "sys.path.append('/Users/elhadjimamadou/Desktop/Projects/data_structures')\n",
    "\n",
    "from queue import Queue\n",
    "\n",
    "# Create and populate queue\n",
    "q = Queue()\n",
    "for i in range(1, 6):\n",
    "    q.enqueue(i)\n",
    "\n",
    "# Show initial state\n",
    "print(\"Initial queue:\")\n",
    "q.visualize()\n",
    "\n",
    "# Remove an element\n",
    "q.dequeue()\n",
    "print(\"\\nAfter dequeue:\")\n",
    "q.visualize()\n",
    "\n",
    "# Add new element\n",
    "q.enqueue(6)\n",
    "print(\"\\nAfter enqueue:\")\n",
    "q.visualize()"
   ]
  },
  {
   "cell_type": "code",
   "execution_count": null,
   "metadata": {},
   "outputs": [],
   "source": []
  },
  {
   "cell_type": "code",
   "execution_count": null,
   "metadata": {},
   "outputs": [],
   "source": []
  }
 ],
 "metadata": {
  "kernelspec": {
   "display_name": "Python 3 (ipykernel)",
   "language": "python",
   "name": "python3"
  },
  "language_info": {
   "codemirror_mode": {
    "name": "ipython",
    "version": 3
   },
   "file_extension": ".py",
   "mimetype": "text/x-python",
   "name": "python",
   "nbconvert_exporter": "python",
   "pygments_lexer": "ipython3",
   "version": "3.13.2"
  }
 },
 "nbformat": 4,
 "nbformat_minor": 4
}
