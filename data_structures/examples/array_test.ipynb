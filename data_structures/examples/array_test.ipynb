{
 "cells": [
  {
   "cell_type": "markdown",
   "metadata": {},
   "source": [
    "# Array Data Structure Demo"
   ]
  },
  {
   "cell_type": "code",
   "execution_count": null,
   "metadata": {},
   "outputs": [],
   "source": [
    "import sys\n",
    "sys.path.append('/Users/elhadjimamadou/Desktop/Projects/data_structures')\n",
    "from data_structures.array import Array  # Modification ici"
   ]
  },
  {
   "cell_type": "code",
   "execution_count": null,
   "metadata": {},
   "outputs": [],
   "source": [
    "class ArrayDemo:\n",
    "    def __init__(self):\n",
    "        self.array = Array()\n",
    "    \n",
    "    def add_items(self, items):\n",
    "        print(\"Adding items:\")\n",
    "        for item in items:\n",
    "            self.array.insert(item)\n",
    "        self.array.display()\n",
    "    \n",
    "    def remove_item(self, index):\n",
    "        print(f\"\\nRemoving item at index {index}:\")\n",
    "        removed = self.array.delete(index)\n",
    "        print(f\"Removed: {removed}\")\n",
    "        self.array.display()\n",
    "    \n",
    "    def find_item(self, item):\n",
    "        print(f\"\\nSearching for {item}:\")\n",
    "        index = self.array.search(item)\n",
    "        print(f\"Found at index: {index}\")\n",
    "    \n",
    "    def get_item(self, index):\n",
    "        print(f\"\\nGetting item at index {index}:\")\n",
    "        item = self.array.get(index)\n",
    "        print(f\"Item: {item}\")\n",
    "    \n",
    "    def show_length(self):\n",
    "        print(f\"\\nArray length: {self.array.length()}\")"
   ]
  },
  {
   "cell_type": "code",
   "execution_count": null,
   "metadata": {},
   "outputs": [],
   "source": [
    "# Test all Array operations\n",
    "demo = ArrayDemo()\n",
    "\n",
    "# Add items\n",
    "demo.add_items([1, 2, 3, 4, 5])\n",
    "\n",
    "# Get length\n",
    "demo.show_length()\n",
    "\n",
    "# Get item\n",
    "demo.get_item(2)\n",
    "\n",
    "# Search item\n",
    "demo.find_item(3)\n",
    "\n",
    "# Remove item\n",
    "demo.remove_item(1)"
   ]
  }
 ],
 "metadata": {
  "kernelspec": {
   "display_name": "Python 3 (ipykernel)",
   "language": "python",
   "name": "python3"
  },
  "language_info": {
   "codemirror_mode": {
    "name": "ipython",
    "version": 3
   },
   "file_extension": ".py",
   "mimetype": "text/x-python",
   "name": "python",
   "nbconvert_exporter": "python",
   "pygments_lexer": "ipython3",
   "version": "3.13.2"
  }
 },
 "nbformat": 4,
 "nbformat_minor": 4
}
