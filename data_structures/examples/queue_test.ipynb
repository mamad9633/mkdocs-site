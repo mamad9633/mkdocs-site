{
 "cells": [
  {
   "cell_type": "code",
   "execution_count": 3,
   "metadata": {},
   "outputs": [],
   "source": [
    "import sys\n",
    "sys.path.append('/Users/elhadjimamadou/Desktop/Projects/data_structures')\n",
    "from data_structures.queue import Queue\n",
    "\n",
    "class QueueDemo:\n",
    "    def __init__(self):\n",
    "        self.queue = Queue()\n",
    "    \n",
    "    def add_items(self, items):\n",
    "        print(\"Adding items to queue:\")\n",
    "        for item in items:\n",
    "            self.queue.enqueue(item)\n",
    "            print(f\"Added: {item}\")\n",
    "    \n",
    "    def remove_item(self):\n",
    "        print(\"\\nRemoving front item:\")\n",
    "        try:\n",
    "            item = self.queue.dequeue()\n",
    "            print(f\"Removed: {item}\")\n",
    "        except IndexError as e:\n",
    "            print(f\"Error: {e}\")\n",
    "    \n",
    "    def check_front(self):\n",
    "        print(\"\\nChecking front item:\")\n",
    "        try:\n",
    "            item = self.queue.peek()\n",
    "            print(f\"Front item: {item}\")\n",
    "        except IndexError as e:\n",
    "            print(f\"Error: {e}\")\n",
    "    \n",
    "    def check_empty(self):\n",
    "        print(\"\\nChecking if queue is empty:\")\n",
    "        print(f\"Empty: {self.queue.isEmpty()}\")"
   ]
  },
  {
   "cell_type": "code",
   "execution_count": 2,
   "metadata": {},
   "outputs": [
    {
     "name": "stdout",
     "output_type": "stream",
     "text": [
      "\n",
      "Checking if queue is empty:\n"
     ]
    },
    {
     "ename": "AttributeError",
     "evalue": "'Queue' object has no attribute 'isEmpty'",
     "output_type": "error",
     "traceback": [
      "\u001b[31m---------------------------------------------------------------------------\u001b[39m",
      "\u001b[31mAttributeError\u001b[39m                            Traceback (most recent call last)",
      "\u001b[36mCell\u001b[39m\u001b[36m \u001b[39m\u001b[32mIn[2]\u001b[39m\u001b[32m, line 5\u001b[39m\n\u001b[32m      2\u001b[39m demo = QueueDemo()\n\u001b[32m      4\u001b[39m \u001b[38;5;66;03m# Check if empty initially\u001b[39;00m\n\u001b[32m----> \u001b[39m\u001b[32m5\u001b[39m \u001b[43mdemo\u001b[49m\u001b[43m.\u001b[49m\u001b[43mcheck_empty\u001b[49m\u001b[43m(\u001b[49m\u001b[43m)\u001b[49m\n\u001b[32m      7\u001b[39m \u001b[38;5;66;03m# Add items\u001b[39;00m\n\u001b[32m      8\u001b[39m demo.add_items([\u001b[32m1\u001b[39m, \u001b[32m2\u001b[39m, \u001b[32m3\u001b[39m])\n",
      "\u001b[36mCell\u001b[39m\u001b[36m \u001b[39m\u001b[32mIn[1]\u001b[39m\u001b[32m, line 33\u001b[39m, in \u001b[36mQueueDemo.check_empty\u001b[39m\u001b[34m(self)\u001b[39m\n\u001b[32m     31\u001b[39m \u001b[38;5;28;01mdef\u001b[39;00m\u001b[38;5;250m \u001b[39m\u001b[34mcheck_empty\u001b[39m(\u001b[38;5;28mself\u001b[39m):\n\u001b[32m     32\u001b[39m     \u001b[38;5;28mprint\u001b[39m(\u001b[33m\"\u001b[39m\u001b[38;5;130;01m\\n\u001b[39;00m\u001b[33mChecking if queue is empty:\u001b[39m\u001b[33m\"\u001b[39m)\n\u001b[32m---> \u001b[39m\u001b[32m33\u001b[39m     \u001b[38;5;28mprint\u001b[39m(\u001b[33mf\u001b[39m\u001b[33m\"\u001b[39m\u001b[33mEmpty: \u001b[39m\u001b[38;5;132;01m{\u001b[39;00m\u001b[38;5;28;43mself\u001b[39;49m\u001b[43m.\u001b[49m\u001b[43mqueue\u001b[49m\u001b[43m.\u001b[49m\u001b[43misEmpty\u001b[49m()\u001b[38;5;132;01m}\u001b[39;00m\u001b[33m\"\u001b[39m)\n",
      "\u001b[31mAttributeError\u001b[39m: 'Queue' object has no attribute 'isEmpty'"
     ]
    }
   ],
   "source": [
    "# Test all Queue operations\n",
    "demo = QueueDemo()\n",
    "\n",
    "# Check if empty initially\n",
    "demo.check_empty()\n",
    "\n",
    "# Add items\n",
    "demo.add_items([1, 2, 3])\n",
    "\n",
    "# Check front item\n",
    "demo.check_front()\n",
    "\n",
    "# Remove item\n",
    "demo.remove_item()\n",
    "\n",
    "# Check if empty after operations\n",
    "demo.check_empty()"
   ]
  },
  {
   "cell_type": "code",
   "execution_count": null,
   "metadata": {},
   "outputs": [],
   "source": []
  }
 ],
 "metadata": {
  "kernelspec": {
   "display_name": "Python 3 (ipykernel)",
   "language": "python",
   "name": "python3"
  },
  "language_info": {
   "codemirror_mode": {
    "name": "ipython",
    "version": 3
   },
   "file_extension": ".py",
   "mimetype": "text/x-python",
   "name": "python",
   "nbconvert_exporter": "python",
   "pygments_lexer": "ipython3",
   "version": "3.13.2"
  }
 },
 "nbformat": 4,
 "nbformat_minor": 4
}
