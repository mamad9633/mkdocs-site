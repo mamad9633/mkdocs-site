{
 "cells": [
  {
   "cell_type": "markdown",
   "metadata": {},
   "source": [
    "# LinkedList Demo"
   ]
  },
  {
   "cell_type": "code",
   "execution_count": 4,
   "metadata": {},
   "outputs": [],
   "source": [
    "import sys\n",
    "sys.path.append('/Users/elhadjimamadou/Desktop/Projects/data_structures')\n",
    "from data_structures.linkedlist import LinkedList\n",
    "\n",
    "class Array:\n",
    "    def __init__(self):\n",
    "        self.array = []\n",
    "\n",
    "    def insert(self, item):\n",
    "        self.array.append(item)\n",
    "\n",
    "    def delete(self, index):\n",
    "        if 0 <= index < len(self.array):\n",
    "            return self.array.pop(index)\n",
    "        raise IndexError(\"Index out of range\")\n",
    "\n",
    "    def search(self, item):\n",
    "        for i in range(len(self.array)):\n",
    "            if self.array[i] == item:\n",
    "                return i\n",
    "        return -1\n",
    "\n",
    "\n",
    "    def get(self, index):\n",
    "        if 0 <= index < len(self.array):\n",
    "            return self.array[index]\n",
    "        raise IndexError(\"Index out of range\")\n",
    "\n",
    "    def length(self):\n",
    "        return len(self.array)\n",
    "\n",
    "    def display(self):\n",
    "        print(self.array)\n",
    "class ListDemo:\n",
    "    def __init__(self):\n",
    "        self.list = LinkedList()\n",
    "    \n",
    "    def add_at_start(self, items):\n",
    "        print(\"\\nAdding at start:\")\n",
    "        for item in items:\n",
    "            self.list.insertAtBeginning(item)\n",
    "        self.list.traverse()\n",
    "    \n",
    "    def add_at_end(self, items):\n",
    "        print(\"\\nAdding at end:\")\n",
    "        for item in items:\n",
    "            self.list.insertAtEnd(item)\n",
    "        self.list.traverse()\n",
    "    \n",
    "    def add_after_index(self, item, index):\n",
    "        print(f\"\\nAdding {item} after index {index}:\")\n",
    "        self.list.insertAfter(item, index)\n",
    "        self.list.traverse()\n",
    "    \n",
    "    def remove_element(self, index):\n",
    "        print(f\"\\nRemoving element at index {index}:\")\n",
    "        try:\n",
    "            self.list.deleteItem(index)\n",
    "            self.list.traverse()\n",
    "        except AttributeError:\n",
    "            print(\"Cannot delete at this index\")\n",
    "    \n",
    "    def find_element(self, item):\n",
    "        return self.list.search(item)"
   ]
  },
  {
   "cell_type": "code",
   "execution_count": null,
   "metadata": {},
   "outputs": [],
   "source": [
    "# Test all LinkedList operations\n",
    "demo = ListDemo()\n",
    "\n",
    "# Add at beginning\n",
    "demo.add_at_start([1, 2, 3])\n",
    "\n",
    "# Add at end\n",
    "demo.add_at_end([4, 5])\n",
    "\n",
    "# Add after index\n",
    "demo.add_after_index(6, 2)\n",
    "\n",
    "# Remove element\n",
    "demo.remove_element(2)  # Changed index to 2\n",
    "\n",
    "# Search element\n",
    "print(f\"\\nIs 3 in list? {demo.find_element(3)}\")"
   ]
  }
 ],
 "metadata": {
  "kernelspec": {
   "display_name": "Python 3 (ipykernel)",
   "language": "python",
   "name": "python3"
  },
  "language_info": {
   "codemirror_mode": {
    "name": "ipython",
    "version": 3
   },
   "file_extension": ".py",
   "mimetype": "text/x-python",
   "name": "python",
   "nbconvert_exporter": "python",
   "pygments_lexer": "ipython3",
   "version": "3.13.2"
  }
 },
 "nbformat": 4,
 "nbformat_minor": 4
}
