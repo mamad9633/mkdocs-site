{
 "cells": [
  {
   "cell_type": "markdown",
   "metadata": {},
   "source": [
    "# Queue Data Structure Demo"
   ]
  },
  {
   "cell_type": "code",
   "execution_count": null,
   "metadata": {},
   "outputs": [],
   "source": [
    "import sys\n",
    "sys.path.append('/Users/elhadjimamadou/Desktop/Projects/data_structures')\n",
    "from data_structures.queue import Queue\n",
    "\n",
    "class QueueDemo:\n",
    "    def __init__(self):\n",
    "        self.queue = Queue()\n",
    "    \n",
    "    def add_items(self, items):\n",
    "        print(\"Adding items to queue:\")\n",
    "        for item in items:\n",
    "            self.queue.enqueue(item)\n",
    "            print(f\"Added: {item}\")\n",
    "    \n",
    "    def remove_item(self):\n",
    "        print(\"\\nRemoving front item:\")\n",
    "        item = self.queue.dequeue()\n",
    "        print(f\"Removed: {item}\")\n",
    "    \n",
    "    def check_front(self):\n",
    "        print(\"\\nChecking front item:\")\n",
    "        item = self.queue.peek()\n",
    "        print(f\"Front item: {item}\")\n",
    "    \n",
    "    def check_empty(self):\n",
    "        print(\"\\nChecking if queue is empty:\")\n",
    "        print(f\"Empty: {self.queue.isEmpty()}\")"
   ]
  },
  {
   "cell_type": "code",
   "execution_count": null,
   "metadata": {},
   "outputs": [],
   "source": [
    "# Test all Queue operations\n",
    "demo = QueueDemo()\n",
    "\n",
    "# Check if empty initially\n",
    "demo.check_empty()\n",
    "\n",
    "# Add items\n",
    "demo.add_items([1, 2, 3])\n",
    "\n",
    "# Check front item\n",
    "demo.check_front()\n",
    "\n",
    "# Remove item\n",
    "demo.remove_item()\n",
    "\n",
    "# Check if empty after operations\n",
    "demo.check_empty()"
   ]
  }
 ],
 "metadata": {
  "kernelspec": {
   "display_name": "Python 3",
   "language": "python",
   "name": "python3"
  }
 },
 "nbformat": 4,
 "nbformat_minor": 4
}
