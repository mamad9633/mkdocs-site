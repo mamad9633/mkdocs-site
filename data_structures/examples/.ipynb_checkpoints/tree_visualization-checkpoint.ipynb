{
 "cells": [
  {
   "cell_type": "markdown",
   "metadata": {},
   "source": [
    "# Binary Search Tree Visualization\n",
    "\n",
    "Demonstrates BST operations with tree layout visualization."
   ]
  },
  {
   "cell_type": "code",
   "execution_count": null,
   "metadata": {},
   "outputs": [],
   "source": [
    "import sys\n",
    "sys.path.append('/Users/elhadjimamadou/Desktop/Projects/data_structures')\n",
    "from data_structures.tree import BinarySearchTree\n",
    "\n",
    "# Create BST\n",
    "bst = BinarySearchTree()\n",
    "\n",
    "# Insert elements\n",
    "elements = [5, 3, 7, 2, 4, 6, 8]\n",
    "print(\"Building tree:\")\n",
    "for e in elements:\n",
    "    bst.insert(e)\n",
    "    print(f\"\\nAfter inserting {e}:\")\n",
    "    bst.visualize()\n",
    "\n",
    "# Search\n",
    "search_value = 4\n",
    "result = bst.search(search_value)\n",
    "print(f\"\\nSearching for {search_value}: {'Found' if result else 'Not found'}\")\n",
    "bst.visualize()"
   ]
  }
 ],
 "metadata": {
  "language_info": {
   "name": "python"
  }
 },
 "nbformat": 4,
 "nbformat_minor": 2
}
