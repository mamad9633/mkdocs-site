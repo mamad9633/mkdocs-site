{
 "cells": [
  {
   "cell_type": "markdown",
   "metadata": {},
   "source": [
    "# Linked List Visualization\n",
    "\n",
    "Demonstrates LinkedList operations with node connections."
   ]
  },
  {
   "cell_type": "code",
   "execution_count": null,
   "metadata": {},
   "outputs": [],
   "source": [
    "import sys\n",
    "sys.path.append('/Users/elhadjimamadou/Desktop/Projects/data_structures')\n",
    "from data_structures.linkedlist import LinkedList\n",
    "\n",
    "# Create list\n",
    "ll = LinkedList()\n",
    "\n",
    "# Insert at beginning\n",
    "print(\"Inserting at beginning:\")\n",
    "for i in [3, 2, 1]:\n",
    "    ll.insertAtBeginning(i)\n",
    "    ll.visualize()\n",
    "\n",
    "# Insert at end\n",
    "print(\"\\nInserting at end:\")\n",
    "ll.insertAtEnd(4)\n",
    "ll.visualize()\n",
    "\n",
    "# Delete item\n",
    "print(\"\\nDeleting node at index 1:\")\n",
    "ll.deleteItem(1)\n",
    "ll.visualize()"
   ]
  }
 ],
 "metadata": {
  "language_info": {
   "name": "python"
  }
 },
 "nbformat": 4,
 "nbformat_minor": 2
}
