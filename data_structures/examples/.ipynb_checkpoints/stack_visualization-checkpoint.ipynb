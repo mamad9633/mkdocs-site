{
 "cells": [
  {
   "cell_type": "markdown",
   "metadata": {},
   "source": [
    "# Stack Data Structure Visualization\n",
    "\n",
    "Demonstrates Stack operations with vertical visualization."
   ]
  },
  {
   "cell_type": "code",
   "execution_count": null,
   "metadata": {},
   "outputs": [],
   "source": [
    "import sys\n",
    "sys.path.append('/Users/elhadjimamadou/Desktop/Projects/data_structures')\n",
    "from data_structures.stack import Stack\n",
    "\n",
    "# Create stack\n",
    "s = Stack()\n",
    "\n",
    "# Push elements\n",
    "print(\"Pushing elements 1-4:\")\n",
    "for i in range(1, 5):\n",
    "    s.push(i)\n",
    "    s.visualize()\n",
    "\n",
    "# Pop element\n",
    "print(\"\\nPopping top element:\")\n",
    "s.pop()\n",
    "s.visualize()\n",
    "\n",
    "# Show top element\n",
    "print(f\"\\nTop element: {s.peek()}\")\n",
    "s.visualize()"
   ]
  }
 ],
 "metadata": {
  "language_info": {
   "name": "python"
  }
 },
 "nbformat": 4,
 "nbformat_minor": 2
}
