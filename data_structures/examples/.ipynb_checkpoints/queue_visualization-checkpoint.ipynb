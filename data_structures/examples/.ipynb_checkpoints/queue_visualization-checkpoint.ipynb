{
 "cells": [
  {
   "cell_type": "code",
   "execution_count": null,
   "metadata": {},
   "outputs": [],
   "source": [
    "\n",
    "from queue import Queue\n",
    "\n",
    "# Create and populate queue\n",
    "q = Queue()\n",
    "for i in range(1, 6):\n",
    "    q.enqueue(i)\n",
    "\n",
    "# Show initial state\n",
    "print(\"Initial queue:\")\n",
    "q.visualize()\n",
    "\n",
    "# Remove an element\n",
    "q.dequeue()\n",
    "print(\"\\nAfter dequeue:\")\n",
    "q.visualize()\n",
    "\n",
    "# Add new element\n",
    "q.enqueue(6)\n",
    "print(\"\\nAfter enqueue:\")\n",
    "q.visualize()"
   ]
  }
 ],
 "metadata": {
  "kernelspec": {
   "display_name": "Python 3",
   "language": "python",
   "name": "python3"
  }
 },
 "nbformat": 4,
 "nbformat_minor": 4
}
